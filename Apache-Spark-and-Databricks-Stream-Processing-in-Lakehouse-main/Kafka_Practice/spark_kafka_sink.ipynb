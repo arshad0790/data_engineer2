{
 "cells": [
  {
   "cell_type": "code",
   "execution_count": 21,
   "metadata": {},
   "outputs": [],
   "source": [
    "from pyspark.sql import SparkSession, DataFrame\n",
    "import time"
   ]
  },
  {
   "cell_type": "code",
   "execution_count": 3,
   "metadata": {},
   "outputs": [],
   "source": [
    "spark = SparkSession.builder \\\n",
    "        .config(\"spark.jars.packages\", \"org.apache.spark:spark-sql-kafka-0-10_2.12:3.5.1,org.apache.hadoop:hadoop-client-runtime:3.3.4\") \\\n",
    "        .getOrCreate()"
   ]
  },
  {
   "cell_type": "code",
   "execution_count": 44,
   "metadata": {},
   "outputs": [],
   "source": [
    "class KafkaSink():\n",
    "    def __init__(self) -> None:\n",
    "        self.base_dir = \"/root/data_engineer2/Apache-Spark-and-Databricks-Stream-Processing-in-Lakehouse-main/Kafka_Practice/data\"\n",
    "        self.BOOTSTRAP_SERVER = \"pkc-619z3.us-east1.gcp.confluent.cloud:9092\"\n",
    "        self.JAAS_MODULE = \"org.apache.kafka.common.security.plain.PlainLoginModule\"\n",
    "        self.CLUSTER_API_KEY = \"WAMFMTSHUDP2D3I3\"\n",
    "        self.CLUSTER_API_SECRET = \"VXnP+yvvBC1F5nmO3J5pYEJ3GEwQj/YFE8GLDdmi9WloeaDhjo4AvW9Eoi6AEg2Y\"\n",
    "        self.invoice_schema = \"\"\"InvoiceNumber string, CreatedTime bigint, StoreID string, PosID string, CashierID string,\n",
    "                        CustomerType string, CustomerCardNo string, TotalAmount double, NumberOfItems bigint, \n",
    "                        PaymentMethod string, TaxableAmount double, CGST double, SGST double, CESS double, \n",
    "                        DeliveryType string,\n",
    "                        DeliveryAddress struct<AddressLine string, City string, ContactNumber string, PinCode string, \n",
    "                        State string>,\n",
    "                        InvoiceLineItems array<struct<ItemCode string, ItemDescription string, \n",
    "                            ItemPrice double, ItemQty bigint, TotalValue double>>\n",
    "                        \"\"\"\n",
    "\n",
    "    def read_invoice(self):\n",
    "        return (spark.readStream\n",
    "                .format(\"json\")\n",
    "                .schema(self.invoice_schema)\n",
    "                .load(f\"{self.base_dir}/source\")\n",
    "                )\n",
    "    \n",
    "    def get_kafka_msg(self, df: DataFrame, key: str):\n",
    "        return (\n",
    "            df.selectExpr(f\"{key} AS key\", \"to_json(struct(*)) AS value\")\n",
    "        )\n",
    "\n",
    "    def send_to_kafka(self, df:DataFrame):\n",
    "        (df.writeStream\n",
    "            .format(\"kafka\")\n",
    "            .option(\"kafka.bootstrap.servers\", self.BOOTSTRAP_SERVER)\n",
    "            .option(\"kafka.security.protocol\", \"SASL_SSL\")\n",
    "            .option(\"kafka.sasl.mechanism\", \"PLAIN\")\n",
    "            .option(\"kafka.sasl.jaas.config\", f\"{self.JAAS_MODULE} required username='{self.CLUSTER_API_KEY}' password='{self.CLUSTER_API_SECRET}';\")\n",
    "            .option(\"topic\", \"spark_sink\")\n",
    "            .option(\"checkpointLocation\", f\"{self.base_dir}/checkpoint/kafka_sink\")\n",
    "            .start()\n",
    "        )\n",
    "\n",
    "    def process(self):\n",
    "        print(\"Starting kafka sink process...\", end='')\n",
    "        invoice_df = self.read_invoice()\n",
    "        kafka_df = self.get_kafka_msg(df=invoice_df, key=\"StoreID\")\n",
    "        self.send_to_kafka(kafka_df)\n",
    "        time.sleep(30)\n",
    "        print(\"Done\")"
   ]
  },
  {
   "cell_type": "code",
   "execution_count": 45,
   "metadata": {},
   "outputs": [
    {
     "name": "stdout",
     "output_type": "stream",
     "text": [
      "Starting kafka sink process...+-------+--------------------+\n",
      "|    key|               value|\n",
      "+-------+--------------------+\n",
      "|STR7188|{\"InvoiceNumber\":...|\n",
      "|STR8513|{\"InvoiceNumber\":...|\n",
      "|STR8513|{\"InvoiceNumber\":...|\n",
      "|STR7188|{\"InvoiceNumber\":...|\n",
      "|STR2629|{\"InvoiceNumber\":...|\n",
      "|STR6347|{\"InvoiceNumber\":...|\n",
      "|STR6347|{\"InvoiceNumber\":...|\n",
      "|STR7188|{\"InvoiceNumber\":...|\n",
      "|STR6162|{\"InvoiceNumber\":...|\n",
      "|STR8513|{\"InvoiceNumber\":...|\n",
      "|STR6347|{\"InvoiceNumber\":...|\n",
      "|STR6347|{\"InvoiceNumber\":...|\n",
      "|STR8513|{\"InvoiceNumber\":...|\n",
      "|STR2629|{\"InvoiceNumber\":...|\n",
      "|STR6347|{\"InvoiceNumber\":...|\n",
      "|STR2629|{\"InvoiceNumber\":...|\n",
      "|STR1955|{\"InvoiceNumber\":...|\n",
      "|STR2629|{\"InvoiceNumber\":...|\n",
      "|STR1955|{\"InvoiceNumber\":...|\n",
      "|STR2629|{\"InvoiceNumber\":...|\n",
      "+-------+--------------------+\n",
      "only showing top 20 rows\n",
      "\n"
     ]
    }
   ],
   "source": [
    "kafka_sink = KafkaSink()\n",
    "kafka_sink.process()"
   ]
  }
 ],
 "metadata": {
  "kernelspec": {
   "display_name": ".venv",
   "language": "python",
   "name": "python3"
  },
  "language_info": {
   "codemirror_mode": {
    "name": "ipython",
    "version": 3
   },
   "file_extension": ".py",
   "mimetype": "text/x-python",
   "name": "python",
   "nbconvert_exporter": "python",
   "pygments_lexer": "ipython3",
   "version": "3.10.12"
  }
 },
 "nbformat": 4,
 "nbformat_minor": 2
}
