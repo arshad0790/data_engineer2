{
 "cells": [
  {
   "cell_type": "code",
   "execution_count": 1,
   "metadata": {},
   "outputs": [],
   "source": [
    "from pyspark.sql import SparkSession"
   ]
  },
  {
   "cell_type": "code",
   "execution_count": 5,
   "metadata": {},
   "outputs": [
    {
     "name": "stderr",
     "output_type": "stream",
     "text": [
      "your 131072x1 screen size is bogus. expect trouble\n",
      "24/12/11 11:56:10 WARN Utils: Your hostname, DESKTOP-8147UDP resolves to a loopback address: 127.0.1.1; using 172.20.48.30 instead (on interface eth0)\n",
      "24/12/11 11:56:10 WARN Utils: Set SPARK_LOCAL_IP if you need to bind to another address\n"
     ]
    },
    {
     "name": "stdout",
     "output_type": "stream",
     "text": [
      ":: loading settings :: url = jar:file:/root/data_engineer2/.venv/lib/python3.10/site-packages/pyspark/jars/ivy-2.5.1.jar!/org/apache/ivy/core/settings/ivysettings.xml\n"
     ]
    },
    {
     "name": "stderr",
     "output_type": "stream",
     "text": [
      "Ivy Default Cache set to: /root/.ivy2/cache\n",
      "The jars for the packages stored in: /root/.ivy2/jars\n",
      "org.apache.spark#spark-sql-kafka-0-10_2.12 added as a dependency\n",
      "org.apache.hadoop#hadoop-client-runtime added as a dependency\n",
      ":: resolving dependencies :: org.apache.spark#spark-submit-parent-97e97d8f-377d-4228-9015-b0170c5e20a9;1.0\n",
      "\tconfs: [default]\n",
      "\tfound org.apache.spark#spark-sql-kafka-0-10_2.12;3.5.1 in central\n",
      "\tfound org.apache.spark#spark-token-provider-kafka-0-10_2.12;3.5.1 in central\n",
      "\tfound org.apache.kafka#kafka-clients;3.4.1 in central\n",
      "\tfound org.lz4#lz4-java;1.8.0 in central\n",
      "\tfound org.xerial.snappy#snappy-java;1.1.10.3 in central\n",
      "\tfound org.slf4j#slf4j-api;2.0.7 in central\n",
      "\tfound org.apache.hadoop#hadoop-client-runtime;3.3.4 in central\n",
      "\tfound org.apache.hadoop#hadoop-client-api;3.3.4 in central\n",
      "\tfound commons-logging#commons-logging;1.1.3 in central\n",
      "\tfound com.google.code.findbugs#jsr305;3.0.0 in central\n",
      "\tfound org.apache.commons#commons-pool2;2.11.1 in central\n",
      "downloading https://repo1.maven.org/maven2/org/apache/hadoop/hadoop-client-runtime/3.3.4/hadoop-client-runtime-3.3.4.jar ...\n",
      "\t[SUCCESSFUL ] org.apache.hadoop#hadoop-client-runtime;3.3.4!hadoop-client-runtime.jar (7454ms)\n",
      "downloading https://repo1.maven.org/maven2/org/apache/hadoop/hadoop-client-api/3.3.4/hadoop-client-api-3.3.4.jar ...\n",
      "\t[SUCCESSFUL ] org.apache.hadoop#hadoop-client-api;3.3.4!hadoop-client-api.jar (6097ms)\n",
      "downloading https://repo1.maven.org/maven2/commons-logging/commons-logging/1.1.3/commons-logging-1.1.3.jar ...\n",
      "\t[SUCCESSFUL ] commons-logging#commons-logging;1.1.3!commons-logging.jar (382ms)\n",
      ":: resolution report :: resolve 5834ms :: artifacts dl 13937ms\n",
      "\t:: modules in use:\n",
      "\tcom.google.code.findbugs#jsr305;3.0.0 from central in [default]\n",
      "\tcommons-logging#commons-logging;1.1.3 from central in [default]\n",
      "\torg.apache.commons#commons-pool2;2.11.1 from central in [default]\n",
      "\torg.apache.hadoop#hadoop-client-api;3.3.4 from central in [default]\n",
      "\torg.apache.hadoop#hadoop-client-runtime;3.3.4 from central in [default]\n",
      "\torg.apache.kafka#kafka-clients;3.4.1 from central in [default]\n",
      "\torg.apache.spark#spark-sql-kafka-0-10_2.12;3.5.1 from central in [default]\n",
      "\torg.apache.spark#spark-token-provider-kafka-0-10_2.12;3.5.1 from central in [default]\n",
      "\torg.lz4#lz4-java;1.8.0 from central in [default]\n",
      "\torg.slf4j#slf4j-api;2.0.7 from central in [default]\n",
      "\torg.xerial.snappy#snappy-java;1.1.10.3 from central in [default]\n",
      "\t---------------------------------------------------------------------\n",
      "\t|                  |            modules            ||   artifacts   |\n",
      "\t|       conf       | number| search|dwnlded|evicted|| number|dwnlded|\n",
      "\t---------------------------------------------------------------------\n",
      "\t|      default     |   11  |   3   |   3   |   0   ||   11  |   3   |\n",
      "\t---------------------------------------------------------------------\n",
      ":: retrieving :: org.apache.spark#spark-submit-parent-97e97d8f-377d-4228-9015-b0170c5e20a9\n",
      "\tconfs: [default]\n",
      "\t11 artifacts copied, 0 already retrieved (56767kB/30ms)\n",
      "24/12/11 11:56:31 WARN NativeCodeLoader: Unable to load native-hadoop library for your platform... using builtin-java classes where applicable\n",
      "Setting default log level to \"WARN\".\n",
      "To adjust logging level use sc.setLogLevel(newLevel). For SparkR, use setLogLevel(newLevel).\n"
     ]
    }
   ],
   "source": [
    "spark = SparkSession.builder \\\n",
    "        .config(\"spark.jars.packages\", \"org.apache.spark:spark-sql-kafka-0-10_2.12:3.5.1,org.apache.hadoop:hadoop-client-runtime:3.3.4\") \\\n",
    "        .getOrCreate()"
   ]
  },
  {
   "cell_type": "code",
   "execution_count": 6,
   "metadata": {},
   "outputs": [],
   "source": [
    "BOOTSTRAP_SERVER = \"pkc-619z3.us-east1.gcp.confluent.cloud:9092\"\n",
    "JAAS_MODULE = \"org.apache.kafka.common.security.plain.PlainLoginModule\"\n",
    "CLUSTER_API_KEY = \"WAMFMTSHUDP2D3I3\"\n",
    "CLUSTER_API_SECRET = \"VXnP+yvvBC1F5nmO3J5pYEJ3GEwQj/YFE8GLDdmi9WloeaDhjo4AvW9Eoi6AEg2Y\""
   ]
  },
  {
   "cell_type": "code",
   "execution_count": 8,
   "metadata": {},
   "outputs": [],
   "source": [
    "kafka_df = (spark.read\n",
    "            .format(\"kafka\")\n",
    "            .option(\"kafka.bootstrap.servers\", BOOTSTRAP_SERVER)\n",
    "            .option(\"kafka.security.protocol\", \"SASL_SSL\")\n",
    "            .option(\"kafka.sasl.mechanism\", \"PLAIN\")\n",
    "            .option(\"kafka.sasl.jaas.config\", f\"{JAAS_MODULE} required username='{CLUSTER_API_KEY}' password='{CLUSTER_API_SECRET}';\")\n",
    "            .option(\"subscribe\", \"invoices\")\n",
    "            .load()\n",
    "            )"
   ]
  },
  {
   "cell_type": "code",
   "execution_count": 9,
   "metadata": {},
   "outputs": [
    {
     "name": "stderr",
     "output_type": "stream",
     "text": [
      "24/12/11 11:57:16 WARN AdminClientConfig: These configurations '[key.deserializer, value.deserializer, enable.auto.commit, max.poll.records, auto.offset.reset]' were supplied but are not used yet.\n",
      "[Stage 0:>                                                          (0 + 1) / 1]\r"
     ]
    },
    {
     "name": "stdout",
     "output_type": "stream",
     "text": [
      "+--------------------+--------------------+--------+---------+------+--------------------+-------------+\n",
      "|                 key|               value|   topic|partition|offset|           timestamp|timestampType|\n",
      "+--------------------+--------------------+--------+---------+------+--------------------+-------------+\n",
      "|[53 54 52 32 36 3...|[7B 22 49 6E 76 6...|invoices|        0|     0|2024-12-10 21:43:...|            0|\n",
      "|[53 54 52 36 33 3...|[7B 22 49 6E 76 6...|invoices|        0|     1|2024-12-10 21:43:...|            0|\n",
      "|[53 54 52 36 33 3...|[7B 22 49 6E 76 6...|invoices|        0|     2|2024-12-10 21:43:...|            0|\n",
      "|[53 54 52 36 33 3...|[7B 22 49 6E 76 6...|invoices|        0|     3|2024-12-10 21:43:...|            0|\n",
      "|[53 54 52 36 33 3...|[7B 22 49 6E 76 6...|invoices|        0|     4|2024-12-10 21:43:...|            0|\n",
      "|[53 54 52 32 36 3...|[7B 22 49 6E 76 6...|invoices|        0|     5|2024-12-10 21:43:...|            0|\n",
      "|[53 54 52 36 33 3...|[7B 22 49 6E 76 6...|invoices|        0|     6|2024-12-10 21:43:...|            0|\n",
      "|[53 54 52 32 36 3...|[7B 22 49 6E 76 6...|invoices|        0|     7|2024-12-10 21:43:...|            0|\n",
      "|[53 54 52 32 36 3...|[7B 22 49 6E 76 6...|invoices|        0|     8|2024-12-10 21:43:...|            0|\n",
      "|[53 54 52 32 36 3...|[7B 22 49 6E 76 6...|invoices|        0|     9|2024-12-10 21:43:...|            0|\n",
      "|[53 54 52 36 33 3...|[7B 22 49 6E 76 6...|invoices|        0|    10|2024-12-10 21:43:...|            0|\n",
      "|[53 54 52 33 37 3...|[7B 22 49 6E 76 6...|invoices|        0|    11|2024-12-10 21:43:...|            0|\n",
      "|[53 54 52 36 33 3...|[7B 22 49 6E 76 6...|invoices|        0|    12|2024-12-10 21:43:...|            0|\n",
      "|[53 54 52 36 33 3...|[7B 22 49 6E 76 6...|invoices|        0|    13|2024-12-10 21:43:...|            0|\n",
      "|[53 54 52 36 33 3...|[7B 22 49 6E 76 6...|invoices|        0|    14|2024-12-10 21:43:...|            0|\n",
      "|[53 54 52 36 33 3...|[7B 22 49 6E 76 6...|invoices|        0|    15|2024-12-10 21:43:...|            0|\n",
      "|[53 54 52 33 37 3...|[7B 22 49 6E 76 6...|invoices|        0|    16|2024-12-10 21:43:...|            0|\n",
      "|[53 54 52 33 37 3...|[7B 22 49 6E 76 6...|invoices|        0|    17|2024-12-10 21:43:...|            0|\n",
      "|[53 54 52 32 36 3...|[7B 22 49 6E 76 6...|invoices|        0|    18|2024-12-10 21:43:...|            0|\n",
      "|[53 54 52 32 36 3...|[7B 22 49 6E 76 6...|invoices|        0|    19|2024-12-10 21:43:...|            0|\n",
      "+--------------------+--------------------+--------+---------+------+--------------------+-------------+\n",
      "only showing top 20 rows\n",
      "\n"
     ]
    },
    {
     "name": "stderr",
     "output_type": "stream",
     "text": [
      "                                                                                \r"
     ]
    }
   ],
   "source": [
    "kafka_df.show()"
   ]
  }
 ],
 "metadata": {
  "kernelspec": {
   "display_name": ".venv",
   "language": "python",
   "name": "python3"
  },
  "language_info": {
   "codemirror_mode": {
    "name": "ipython",
    "version": 3
   },
   "file_extension": ".py",
   "mimetype": "text/x-python",
   "name": "python",
   "nbconvert_exporter": "python",
   "pygments_lexer": "ipython3",
   "version": "3.10.12"
  }
 },
 "nbformat": 4,
 "nbformat_minor": 2
}
