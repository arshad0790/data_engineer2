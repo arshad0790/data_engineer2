{
 "cells": [
  {
   "cell_type": "markdown",
   "metadata": {},
   "source": [
    "SQL Question 1: Rolling 3 Months Active Users per Product\n",
    "Assume that Nagarro is an e-commerce company. Their product team wants to analyze user engagement on a rolling 3 months basis. Specifically, they want to calculate how many unique active users a product has on a rolling 3 months basis, sorted by date and product.\n",
    "\n",
    "Use the schema and sample data from the reviews table provided below for this question.\n",
    "\n",
    "reviews Example Input:\n",
    "review_id\tuser_id\tsubmit_date\tproduct_id\tstars\n",
    "6171\t123\t2022-01-08\t50001\t4\n",
    "7802\t265\t2022-02-10\t69852\t4\n",
    "5293\t362\t2022-03-18\t50001\t3\n",
    "6352\t192\t2022-04-26\t69852\t3\n",
    "4517\t981\t2022-05-05\t69852\t2\n",
    "We define an active user as a user that has submitted at least one review in the timeframe. Note: use the submit_date to calculate the rolling 3 month window.\n",
    "\n",
    "Example Output:\n",
    "end_of_period\tproduct_id\tactive_users\n",
    "2022-03-31\t50001\t2\n",
    "2022-03-31\t69852\t1\n",
    "2022-04-30\t50001\t1\n",
    "2022-04-30\t69852\t2\n",
    "2022-05-31\t50001\t0\n",
    "2022-05-31\t69852\t2\n"
   ]
  },
  {
   "cell_type": "code",
   "execution_count": 11,
   "metadata": {},
   "outputs": [],
   "source": [
    "from datetime import date\n",
    "from pyspark.sql import SparkSession\n",
    "from pyspark.sql import functions as F\n",
    "\n",
    "# Initialize Spark session\n",
    "spark = SparkSession.builder.appName(\"CreateReviewDataFrame\").getOrCreate()"
   ]
  },
  {
   "cell_type": "code",
   "execution_count": 18,
   "metadata": {},
   "outputs": [
    {
     "name": "stdout",
     "output_type": "stream",
     "text": [
      "+---------+-------+-----------+----------+-----+\n",
      "|review_id|user_id|submit_date|product_id|stars|\n",
      "+---------+-------+-----------+----------+-----+\n",
      "|     6171|    123| 2022-01-08|     50001|    4|\n",
      "|     7802|    265| 2022-02-10|     69852|    4|\n",
      "|     5293|    362| 2022-03-18|     50001|    3|\n",
      "|     6352|    192| 2022-04-26|     69852|    3|\n",
      "|     4517|    981| 2022-05-05|     69852|    2|\n",
      "+---------+-------+-----------+----------+-----+\n",
      "\n"
     ]
    }
   ],
   "source": [
    "# Define data for the DataFrame\n",
    "data = [\n",
    "    (6171, 123, date(2022, 1, 8), 50001, 4),\n",
    "    (7802, 265, date(2022, 2, 10), 69852, 4),\n",
    "    (5293, 362, date(2022, 3, 18), 50001, 3),\n",
    "    (6352, 192, date(2022, 4, 26), 69852, 3),\n",
    "    (4517, 981, date(2022, 5, 5), 69852, 2),\n",
    "]\n",
    "\n",
    "# Define schema\n",
    "schema = \"review_id int, user_id int, submit_date date, product_id int, stars int\"\n",
    "\n",
    "# Create DataFrame\n",
    "df = spark.createDataFrame(data, schema)\n",
    "df.createOrReplaceTempView(\"reviews\")\n",
    "\n",
    "# Show the DataFrame\n",
    "df.show(F.)"
   ]
  },
  {
   "cell_type": "code",
   "execution_count": 57,
   "metadata": {},
   "outputs": [],
   "source": [
    "query=\"\"\" \n",
    "Select end_of_period, product_id, count(Distinct user_id) AS active_users from\n",
    "(Select *, last_day(submit_date) AS end_of_period, add_months(end_of_period, -3) AS start_of_period from reviews) sub\n",
    "where submit_date >= start_of_period and submit_date <= end_of_period\n",
    "GROUP BY end_of_period, product_id\n",
    "\"\"\""
   ]
  },
  {
   "cell_type": "code",
   "execution_count": 65,
   "metadata": {},
   "outputs": [],
   "source": [
    "query2 = \"\"\"SELECT \n",
    " end_of_period,\n",
    " product_id,\n",
    " COUNT(DISTINCT user_id) AS active_users\n",
    "FROM (\n",
    " SELECT\n",
    "   last_day(submit_date) AS end_of_period,\n",
    "   product_id,\n",
    "   user_id\n",
    " FROM \n",
    "   reviews\n",
    " WHERE \n",
    "   submit_date BETWEEN \n",
    "   add_months(last_day(submit_date), -3) AND \n",
    "   last_day(submit_date)\n",
    ") t\n",
    "GROUP BY \n",
    " end_of_period, \n",
    " product_id\n",
    "ORDER BY\n",
    " end_of_period ASC,\n",
    " product_id ASC;\"\"\""
   ]
  },
  {
   "cell_type": "code",
   "execution_count": 66,
   "metadata": {},
   "outputs": [
    {
     "name": "stdout",
     "output_type": "stream",
     "text": [
      "+-------------+----------+------------+\n",
      "|end_of_period|product_id|active_users|\n",
      "+-------------+----------+------------+\n",
      "|   2022-01-31|     50001|           1|\n",
      "|   2022-02-28|     69852|           1|\n",
      "|   2022-03-31|     50001|           1|\n",
      "|   2022-04-30|     69852|           1|\n",
      "|   2022-05-31|     69852|           1|\n",
      "+-------------+----------+------------+\n",
      "\n"
     ]
    }
   ],
   "source": [
    "spark.sql(query2).show()"
   ]
  }
 ],
 "metadata": {
  "kernelspec": {
   "display_name": ".venv",
   "language": "python",
   "name": "python3"
  },
  "language_info": {
   "codemirror_mode": {
    "name": "ipython",
    "version": 3
   },
   "file_extension": ".py",
   "mimetype": "text/x-python",
   "name": "python",
   "nbconvert_exporter": "python",
   "pygments_lexer": "ipython3",
   "version": "3.10.12"
  }
 },
 "nbformat": 4,
 "nbformat_minor": 2
}
