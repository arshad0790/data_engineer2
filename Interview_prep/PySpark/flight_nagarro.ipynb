{
 "cells": [
  {
   "cell_type": "markdown",
   "metadata": {},
   "source": [
    "### List the airlines that operate flights to all available destinations.\n",
    "**Relevant columns**:\n",
    "- df1 = flights (flight_id, airline_id, destination_airport_id)\n",
    "- df2 = airlines (airline_id, airline_name)"
   ]
  },
  {
   "cell_type": "code",
   "execution_count": null,
   "metadata": {},
   "outputs": [],
   "source": []
  },
  {
   "cell_type": "code",
   "execution_count": 1,
   "metadata": {},
   "outputs": [
    {
     "name": "stderr",
     "output_type": "stream",
     "text": [
      "your 131072x1 screen size is bogus. expect trouble\n",
      "25/01/31 11:11:27 WARN Utils: Your hostname, DESKTOP-8147UDP resolves to a loopback address: 127.0.1.1; using 172.17.236.223 instead (on interface eth0)\n",
      "25/01/31 11:11:27 WARN Utils: Set SPARK_LOCAL_IP if you need to bind to another address\n",
      "Setting default log level to \"WARN\".\n",
      "To adjust logging level use sc.setLogLevel(newLevel). For SparkR, use setLogLevel(newLevel).\n",
      "25/01/31 11:11:29 WARN NativeCodeLoader: Unable to load native-hadoop library for your platform... using builtin-java classes where applicable\n"
     ]
    }
   ],
   "source": [
    "from pyspark.sql import SparkSession\n",
    "\n",
    "# Initialize Spark session\n",
    "spark = SparkSession.builder.appName(\"SetupTable\").getOrCreate()"
   ]
  },
  {
   "cell_type": "code",
   "execution_count": 4,
   "metadata": {},
   "outputs": [],
   "source": [
    "# Define data for the table\n",
    "flights_data = [\n",
    "    (1, 1, 101),\n",
    "    (2, 1, 102),\n",
    "    (3, 2, 101),\n",
    "    (4, 2, 103),\n",
    "    (5, 3, 101),\n",
    "    (6, 3, 102),\n",
    "    (7, 3, 103),\n",
    "]\n",
    "\n",
    "airlines_data = [\n",
    "    (1, \"Airline A\"),\n",
    "    (2, \"Airline B\"),\n",
    "    (3, \"Airline C\"),\n",
    "]"
   ]
  },
  {
   "cell_type": "code",
   "execution_count": 9,
   "metadata": {},
   "outputs": [],
   "source": [
    "airlines_df = spark.createDataFrame(airlines_data, [\"airline_id\", \"airline_name\"])\n",
    "\n",
    "flights_df = spark.createDataFrame(flights_data, [\"flight_id\", \"airline_id\", \"destination_airport_id\"])"
   ]
  },
  {
   "cell_type": "code",
   "execution_count": 10,
   "metadata": {},
   "outputs": [
    {
     "name": "stdout",
     "output_type": "stream",
     "text": [
      "+---------+----------+----------------------+\n",
      "|flight_id|airline_id|destination_airport_id|\n",
      "+---------+----------+----------------------+\n",
      "|        1|         1|                   101|\n",
      "|        2|         1|                   102|\n",
      "|        3|         2|                   101|\n",
      "|        4|         2|                   103|\n",
      "|        5|         3|                   101|\n",
      "|        6|         3|                   102|\n",
      "|        7|         3|                   103|\n",
      "+---------+----------+----------------------+\n",
      "\n"
     ]
    }
   ],
   "source": [
    "flights_df.show()"
   ]
  },
  {
   "cell_type": "code",
   "execution_count": 8,
   "metadata": {},
   "outputs": [
    {
     "name": "stdout",
     "output_type": "stream",
     "text": [
      "+----------+------------+\n",
      "|airline_id|airline_name|\n",
      "+----------+------------+\n",
      "|         1|   Airline A|\n",
      "|         2|   Airline B|\n",
      "|         3|   Airline C|\n",
      "+----------+------------+\n",
      "\n"
     ]
    }
   ],
   "source": [
    "airlines_df.show()"
   ]
  },
  {
   "cell_type": "code",
   "execution_count": 12,
   "metadata": {},
   "outputs": [
    {
     "data": {
      "text/plain": [
       "3"
      ]
     },
     "execution_count": 12,
     "metadata": {},
     "output_type": "execute_result"
    }
   ],
   "source": [
    "destination_count = flights_df.select(\"destination_airport_id\").distinct().count()"
   ]
  },
  {
   "cell_type": "code",
   "execution_count": 21,
   "metadata": {},
   "outputs": [],
   "source": [
    "result_df = (flights_df.groupBy(\"airline_id\").count()\n",
    "             .filter(f\"count = {destination_count}\")\n",
    "             .join(airlines_df, \"airline_id\")\n",
    "             .drop(\"count\")\n",
    ")"
   ]
  },
  {
   "cell_type": "code",
   "execution_count": 22,
   "metadata": {},
   "outputs": [
    {
     "name": "stdout",
     "output_type": "stream",
     "text": [
      "+----------+------------+\n",
      "|airline_id|airline_name|\n",
      "+----------+------------+\n",
      "|         3|   Airline C|\n",
      "+----------+------------+\n",
      "\n"
     ]
    }
   ],
   "source": [
    "result_df.show()"
   ]
  }
 ],
 "metadata": {
  "kernelspec": {
   "display_name": ".venv",
   "language": "python",
   "name": "python3"
  },
  "language_info": {
   "codemirror_mode": {
    "name": "ipython",
    "version": 3
   },
   "file_extension": ".py",
   "mimetype": "text/x-python",
   "name": "python",
   "nbconvert_exporter": "python",
   "pygments_lexer": "ipython3",
   "version": "3.10.12"
  }
 },
 "nbformat": 4,
 "nbformat_minor": 2
}
